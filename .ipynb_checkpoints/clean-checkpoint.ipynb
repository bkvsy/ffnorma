{
 "cells": [
  {
   "cell_type": "code",
   "execution_count": 21,
   "metadata": {},
   "outputs": [],
   "source": [
    "import docx\n",
    "import re\n",
    "import bs4\n",
    "import os"
   ]
  },
  {
   "cell_type": "code",
   "execution_count": 43,
   "metadata": {},
   "outputs": [
    {
     "name": "stdout",
     "output_type": "stream",
     "text": [
      "DB created\n"
     ]
    }
   ],
   "source": [
    "data_path = r\"F:\\coding\\ffnorma\\data_src\"\n",
    "db = []\n",
    "\n",
    "for filename in os.listdir(data_path):\n",
    "    if filename.endswith(\"A.html\"): \n",
    "        \n",
    "#         print(filename)\n",
    "\n",
    "        with open(f\"{data_path}\\\\{filename}\", encoding=\"utf-8\") as website:\n",
    "            soup = bs4.BeautifulSoup(website, \"html.parser\")\n",
    "\n",
    "        lista = []\n",
    "        for match in soup.find_all(\"span\", class_=\"highlighted-search-term\"):\n",
    "            lista.append(match.next_sibling)\n",
    "\n",
    "        for s in lista:\n",
    "            s = \"PN\"+s\n",
    "\n",
    "        blocks = soup.find_all(\"div\", class_=\"p4s-search-results-values\")    \n",
    "\n",
    "        for b in blocks:\n",
    "            tytul = None\n",
    "            numer = None\n",
    "            zastepuje = []\n",
    "\n",
    "            if len(b.find_all(\"span\", string=re.compile(\"Tytuł normy\"))) == 0:\n",
    "                tytul = \"\"\n",
    "            else:\n",
    "                tytul = str(b.find_all(\"span\", string=re.compile(\"Tytuł normy\"))[0].find_next(\"a\").string).replace('\\t', '').replace('\\n', '')\n",
    "                numer = \"PN\"+ str(b.find_all(\"span\", class_=\"highlighted-search-term\")[0].next_sibling).replace('\\t', '').replace('\\n', '')\n",
    "\n",
    "                if len(b.find_all(string=re.compile(\"Zastępuje\"))) != 0:\n",
    "                    zastapione_normy = b.find_all(string=re.compile(\"Zastępuje\"))[0].parent.parent.next_sibling.find_next(\"ul\").find_all(\"a\")\n",
    "                    for z in zastapione_normy:\n",
    "                        try:\n",
    "                            z = z.contents[0].replace('\\t', '').replace('\\n', '')\n",
    "                        except IndexError:\n",
    "                            z = ''\n",
    "                        zastepuje.append(z)\n",
    "\n",
    "        #             zastepuje = str(b.find_all(string=re.compile(\"Zastępuje\"))[0].parent.parent.next_sibling.find_next(\"a\").contents[0]).replace('\\t', '').replace('\\n', '')\n",
    "\n",
    "            db.append((tytul, numer, zastepuje))\n",
    "\n",
    "print(\"DB created\")"
   ]
  },
  {
   "cell_type": "code",
   "execution_count": 44,
   "metadata": {},
   "outputs": [
    {
     "data": {
      "text/plain": [
       "13707"
      ]
     },
     "execution_count": 44,
     "metadata": {},
     "output_type": "execute_result"
    }
   ],
   "source": [
    "len(db)"
   ]
  },
  {
   "cell_type": "code",
   "execution_count": 45,
   "metadata": {},
   "outputs": [],
   "source": [
    "db_filtered = list(filter(lambda x: x[0] is not '', db))"
   ]
  },
  {
   "cell_type": "code",
   "execution_count": 46,
   "metadata": {},
   "outputs": [
    {
     "data": {
      "text/plain": [
       "12009"
      ]
     },
     "execution_count": 46,
     "metadata": {},
     "output_type": "execute_result"
    }
   ],
   "source": [
    "len(db_filtered)"
   ]
  },
  {
   "cell_type": "code",
   "execution_count": null,
   "metadata": {},
   "outputs": [],
   "source": []
  },
  {
   "cell_type": "code",
   "execution_count": 11,
   "metadata": {},
   "outputs": [],
   "source": [
    "# Tworzenie bazy danych z normami\n",
    "\n",
    "with open(\"aktualne.html\", encoding=\"utf-8\") as website:\n",
    "    soup = bs4.BeautifulSoup(website, \"html.parser\")\n",
    "    \n",
    "lista = []\n",
    "for match in soup.find_all(\"span\", class_=\"highlighted-search-term\"):\n",
    "    lista.append(match.next_sibling)\n",
    "\n",
    "for s in lista:\n",
    "    s = \"PN\"+s\n",
    "\n",
    "blocks = soup.find_all(\"div\", class_=\"p4s-search-results-values\")    \n",
    "\n",
    "db = []\n",
    "for b in blocks:\n",
    "    tytul = None\n",
    "    numer = None\n",
    "    zastepuje = []\n",
    "    \n",
    "    if len(b.find_all(\"span\", string=re.compile(\"Tytuł normy\"))) == 0:\n",
    "        tytul = \"\"\n",
    "    else:\n",
    "        tytul = str(b.find_all(\"span\", string=re.compile(\"Tytuł normy\"))[0].find_next(\"a\").string).replace('\\t', '').replace('\\n', '')\n",
    "        numer = \"PN\"+ str(b.find_all(\"span\", class_=\"highlighted-search-term\")[0].next_sibling).replace('\\t', '').replace('\\n', '')\n",
    "        \n",
    "        if len(b.find_all(string=re.compile(\"Zastępuje\"))) != 0:\n",
    "            zastapione_normy = b.find_all(string=re.compile(\"Zastępuje\"))[0].parent.parent.next_sibling.find_next(\"ul\").find_all(\"a\")\n",
    "            for z in zastapione_normy:\n",
    "                z = z.contents[0].replace('\\t', '').replace('\\n', '')\n",
    "                zastepuje.append(z)\n",
    "            \n",
    "#             zastepuje = str(b.find_all(string=re.compile(\"Zastępuje\"))[0].parent.parent.next_sibling.find_next(\"a\").contents[0]).replace('\\t', '').replace('\\n', '')\n",
    "        \n",
    "    db.append((tytul, numer, zastepuje))"
   ]
  },
  {
   "cell_type": "code",
   "execution_count": 65,
   "metadata": {},
   "outputs": [
    {
     "name": "stdout",
     "output_type": "stream",
     "text": [
      "[<docx.text.run.Run object at 0x0C83E450>]\n",
      "[<docx.text.run.Run object at 0x0C83E1F0>]\n",
      "[]\n",
      "[]\n",
      "[]\n",
      "[]\n",
      "[]\n",
      "[]\n",
      "[]\n"
     ]
    }
   ],
   "source": [
    "# Przeszukiwanie dokumentu specyfikacji\n",
    "\n",
    "specyfikacja = docx.Document(\"test_data/TORGR3.docx\")\n",
    "\n",
    "# pętla for po paragrafach\n",
    "content = \"\"\n",
    "for p in specyfikacja.paragraphs:\n",
    "    print(p.runs)\n",
    "\n",
    "# specyfikacja.save(\"test_data/kopia.docx\")\n",
    "\n",
    "regex = r\"PN(?: |-).{1,30}?(?:(?::\\d{4})(?:-\\d\\d|))(?:[\\S]+?(?:\\d{4})|)(?:-\\d{2}|)\"\n",
    "normy = re.findall(regex, content)"
   ]
  },
  {
   "cell_type": "code",
   "execution_count": 71,
   "metadata": {},
   "outputs": [],
   "source": [
    "import docx2txt\n",
    "texxxt = docx2txt.process(\"test_data/TORGR3.docx\")\n",
    "normy = re.findall(regex, texxxt)"
   ]
  },
  {
   "cell_type": "code",
   "execution_count": 72,
   "metadata": {},
   "outputs": [
    {
     "data": {
      "text/plain": [
       "['PN-EN 13501-2:2007+A1:2009']"
      ]
     },
     "execution_count": 72,
     "metadata": {},
     "output_type": "execute_result"
    }
   ],
   "source": [
    "normy"
   ]
  },
  {
   "cell_type": "code",
   "execution_count": 73,
   "metadata": {},
   "outputs": [],
   "source": [
    "# Porównanie wyników wyszukiwania z bazą\n",
    "\n",
    "results = []\n",
    "\n",
    "for n in normy:\n",
    "    mark = \"Not found in db\"\n",
    "    state = \"Unknown\" # Up-to-date\n",
    "    newest = None\n",
    "    \n",
    "    for d in db:\n",
    "        if n == d[1]:\n",
    "            mark = \"Found in db\"\n",
    "            state = \"Up-to-date\"\n",
    "            break\n",
    "            \n",
    "        else:\n",
    "            for old in d[2]:\n",
    "                if n == old:\n",
    "                    mark = \"Found in db\"\n",
    "                    state = \"Out-of-date\"\n",
    "                    newest = d[1]\n",
    "                    break\n",
    "    results.append((n, mark, state, newest))"
   ]
  },
  {
   "cell_type": "code",
   "execution_count": 74,
   "metadata": {},
   "outputs": [
    {
     "data": {
      "text/plain": [
       "[('PN-EN 13501-2:2007+A1:2009', 'Not found in db', 'Unknown', None)]"
      ]
     },
     "execution_count": 74,
     "metadata": {},
     "output_type": "execute_result"
    }
   ],
   "source": [
    "results"
   ]
  },
  {
   "cell_type": "markdown",
   "metadata": {},
   "source": [
    "# Powiększenie bazy\n",
    "\n",
    "Trzeba powiększyć bazę o sektory: chemia, elektryka\n",
    "Oraz o numery starych norm ze spisu"
   ]
  },
  {
   "cell_type": "code",
   "execution_count": 16,
   "metadata": {},
   "outputs": [],
   "source": [
    "# Eksport danych do nowego pliku\n",
    "\n",
    "# for paragraf in specyfikacja.paragraphs:\n",
    "#     for i in range(len(results)):\n",
    "#         if results[i][3] != None:             \n",
    "#             paragraf.text = paragraf.text.replace(results[i][0], results[i][3], 1)            \n",
    "#     print(paragraf.text)\n",
    "\n",
    "# specyfikacja.save(\"test_data/output.docx\")    "
   ]
  },
  {
   "cell_type": "code",
   "execution_count": null,
   "metadata": {},
   "outputs": [],
   "source": []
  }
 ],
 "metadata": {
  "kernelspec": {
   "display_name": "Python 3",
   "language": "python",
   "name": "python3"
  },
  "language_info": {
   "codemirror_mode": {
    "name": "ipython",
    "version": 3
   },
   "file_extension": ".py",
   "mimetype": "text/x-python",
   "name": "python",
   "nbconvert_exporter": "python",
   "pygments_lexer": "ipython3",
   "version": "3.7.4"
  }
 },
 "nbformat": 4,
 "nbformat_minor": 2
}
