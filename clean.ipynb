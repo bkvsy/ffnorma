{
 "cells": [
  {
   "cell_type": "code",
   "execution_count": 79,
   "metadata": {},
   "outputs": [],
   "source": [
    "import docx\n",
    "import re\n",
    "import bs4\n",
    "import os\n",
    "import csv\n",
    "from zipfile import ZipFile, ZIP_STORED, ZipInfo\n",
    "import xml.etree.ElementTree\n",
    "import shutil\n",
    "import tempfile"
   ]
  },
  {
   "cell_type": "markdown",
   "metadata": {},
   "source": [
    "# Wczytanie bazy"
   ]
  },
  {
   "cell_type": "code",
   "execution_count": 63,
   "metadata": {},
   "outputs": [],
   "source": [
    "db_main = []\n",
    "\n",
    "with open(\"db.csv\", \"r\", encoding=\"utf-8\", newline=\"\") as readdb:\n",
    "    reader = csv.reader(readdb, delimiter=',')\n",
    "    for row in reader:\n",
    "        db_main.append((row[0], row[1], eval(row[2])))"
   ]
  },
  {
   "cell_type": "markdown",
   "metadata": {},
   "source": [
    "# Przeszukiwanie dokumentu specyfikacji\n",
    "\n",
    "Zaimplementowany sposób: wyszukiewanie frazy regex w document.xml z docx"
   ]
  },
  {
   "cell_type": "code",
   "execution_count": 64,
   "metadata": {},
   "outputs": [],
   "source": [
    "with open(r\"C:\\Users\\billy\\Desktop\\py\\ffnorma\\test_data\\specyfikacja.docx\", \"rb\") as f:\n",
    "    document = zipfile.ZipFile(f)\n",
    "    xml_content = document.read('word/document.xml')\n",
    "    tree = XML(xml_content)\n",
    "    \n",
    "xml_str = xml.etree.ElementTree.tostring(tree, encoding='unicode')"
   ]
  },
  {
   "cell_type": "code",
   "execution_count": 65,
   "metadata": {},
   "outputs": [],
   "source": [
    "# Wyszukiwanie wyników \n",
    "regex = r\"PN(?: |-).{1,30}?(?:(?::\\d{4})(?:-\\d\\d|))(?:[\\S]+?(?:\\d{4})|)(?:-\\d{2}|)\"\n",
    "normy = re.findall(regex, xml_str)"
   ]
  },
  {
   "cell_type": "code",
   "execution_count": 68,
   "metadata": {},
   "outputs": [
    {
     "name": "stdout",
     "output_type": "stream",
     "text": [
      "Found: 20, Not found: 42\n"
     ]
    }
   ],
   "source": [
    "# Porównanie wyników wyszukiwania z bazą\n",
    "results = []\n",
    "found = 0\n",
    "\n",
    "for n in normy:\n",
    "    mark = \"Not found in db\"\n",
    "    state = \"Unknown\" # Up-to-date\n",
    "    newest = None\n",
    "    \n",
    "    for d in db_main:\n",
    "        if n == d[1]:\n",
    "            mark = \"Found in db\"\n",
    "            state = \"Up-to-date\"\n",
    "            found += 1\n",
    "            break\n",
    "            \n",
    "        elif n in d[2]:\n",
    "            mark = \"Found in db\"\n",
    "            state = \"Out-of-date\"\n",
    "            newest = d[1]\n",
    "            found += 1\n",
    "            break\n",
    "            \n",
    "    results.append((n, mark, state, newest))\n",
    "    \n",
    "print(f\"Found: {found}, Not found: {len(results)-found}\")"
   ]
  },
  {
   "cell_type": "code",
   "execution_count": 69,
   "metadata": {
    "scrolled": true
   },
   "outputs": [
    {
     "data": {
      "text/plain": [
       "[('PN-B-20130:1999', 'Not found in db', 'Unknown', None),\n",
       " ('PN-EN 14891:2012', 'Found in db', 'Out-of-date', 'PN-EN 14891:2017-03'),\n",
       " ('PN-EN 12004:2002', 'Not found in db', 'Unknown', None),\n",
       " ('PN-EN 2004:2002', 'Not found in db', 'Unknown', None),\n",
       " ('PN-EN 14411:2005', 'Not found in db', 'Unknown', None),\n",
       " ('PN-EN 12004:2002', 'Not found in db', 'Unknown', None),\n",
       " ('PN-EN 14411:2005', 'Not found in db', 'Unknown', None),\n",
       " ('PN-EN 2004:2002', 'Not found in db', 'Unknown', None),\n",
       " ('PN-EN 12859:2002', 'Not found in db', 'Unknown', None),\n",
       " ('PN-EN 12860:2002', 'Found in db', 'Up-to-date', None),\n",
       " ('PN-B-79405:1997/Ap1:1999', 'Not found in db', 'Unknown', None),\n",
       " ('PN-B-30042:1997', 'Not found in db', 'Unknown', None),\n",
       " ('PN-EN 14411:2005', 'Not found in db', 'Unknown', None),\n",
       " ('PN-EN 13964:2004', 'Not found in db', 'Unknown', None),\n",
       " ('PN-EN 22768-1:1999', 'Found in db', 'Up-to-date', None),\n",
       " ('PN-B-02151-2:2018-01', 'Found in db', 'Up-to-date', None),\n",
       " ('PN-B-10085:2001', 'Not found in db', 'Unknown', None),\n",
       " ('PN-B-05000:1996', 'Found in db', 'Up-to-date', None),\n",
       " ('PN-B-13079:1997', 'Not found in db', 'Unknown', None),\n",
       " ('PN-B-10085:1988', 'Not found in db', 'Unknown', None),\n",
       " ('PN-EN 12210:2001', 'Found in db', 'Out-of-date', 'PN-EN 12210:2016-05'),\n",
       " ('PN-EN 12211:2001', 'Found in db', 'Out-of-date', 'PN-EN 12211:2016-04'),\n",
       " ('PN-EN 22768-1:1999', 'Found in db', 'Up-to-date', None),\n",
       " ('PN-B-02151-2:2018-01', 'Found in db', 'Up-to-date', None),\n",
       " ('PN-B-79405:1997/Ap1:1999', 'Not found in db', 'Unknown', None),\n",
       " ('PN-EN ISO 7050:1999', 'Found in db', 'Out-of-date', 'PN-EN ISO 7050:2011'),\n",
       " ('PN-EN ISO 3506-4:2004', 'Not found in db', 'Unknown', None),\n",
       " ('PN-EN 10142:2003', 'Not found in db', 'Unknown', None),\n",
       " ('PN-EN 10142:2003', 'Not found in db', 'Unknown', None),\n",
       " ('PN-EN ISO 9999:2017-02', 'Found in db', 'Up-to-date', None),\n",
       " ('PN-Z-80101:2007', 'Found in db', 'Up-to-date', None),\n",
       " ('PN-EN 12182:2012', 'Found in db', 'Up-to-date', None),\n",
       " ('PN-B-75704:2015-12', 'Found in db', 'Up-to-date', None),\n",
       " ('PN-EN 33:2011', 'Found in db', 'Out-of-date', 'PN-EN 33:2019-06'),\n",
       " ('PN-EN 31:2011', 'Found in db', 'Out-of-date', 'PN-EN 31+A1:2014-07'),\n",
       " ('PN-EN 80:2002', 'Found in db', 'Up-to-date', None),\n",
       " ('PN-EN 13407:2015-09',\n",
       "  'Found in db',\n",
       "  'Out-of-date',\n",
       "  'PN-EN 13407+A1:2018-11'),\n",
       " ('PN-EN 60529:2003', 'Not found in db', 'Unknown', None),\n",
       " ('PN-EN 60446:2004', 'Not found in db', 'Unknown', None),\n",
       " ('PN-IEC 60364-6-61:2000', 'Not found in db', 'Unknown', None),\n",
       " ('PN-E-04700:1998/Az1:2000', 'Not found in db', 'Unknown', None),\n",
       " ('PN-IEC 61024-1-2:2002', 'Not found in db', 'Unknown', None),\n",
       " ('PN-IEC 60364-6-61:2000', 'Not found in db', 'Unknown', None),\n",
       " ('PN-E04700:1998/Az1:2000', 'Not found in db', 'Unknown', None),\n",
       " ('PN-IEC 60364-6-61:2000', 'Not found in db', 'Unknown', None),\n",
       " ('PN-IEC 60364-6-61:2000', 'Not found in db', 'Unknown', None),\n",
       " ('PN-E-04700:1998/Az1:2000', 'Not found in db', 'Unknown', None),\n",
       " ('PN-IEC 60364-4-41:2017-09', 'Not found in db', 'Unknown', None),\n",
       " ('PN-IEC 60364-4-42:2011', 'Not found in db', 'Unknown', None),\n",
       " ('PN-IEC 60364-4-43:2010', 'Not found in db', 'Unknown', None),\n",
       " ('PN-IEC 60364-4-442:2012', 'Not found in db', 'Unknown', None),\n",
       " ('PN-IEC 60364-4-443:2016-03', 'Not found in db', 'Unknown', None),\n",
       " ('PN-IEC 60364-5-51:2011', 'Not found in db', 'Unknown', None),\n",
       " ('PN-IEC 60364-5-54:2011', 'Not found in db', 'Unknown', None),\n",
       " ('PN-EN 12464-1:2012', 'Found in db', 'Up-to-date', None),\n",
       " ('PN-EN/1886:2001', 'Not found in db', 'Unknown', None),\n",
       " ('PN-EN1506:2001', 'Not found in db', 'Unknown', None),\n",
       " ('PN-B-76003:1996', 'Not found in db', 'Unknown', None),\n",
       " ('PN-B-76001:1996', 'Not found in db', 'Unknown', None),\n",
       " ('PN-ISO 13351:1999', 'Not found in db', 'Unknown', None),\n",
       " ('PN-B-03410:1999', 'Found in db', 'Out-of-date', 'PN-EN 1505:2001'),\n",
       " ('PN-B03434:1999', 'Not found in db', 'Unknown', None)]"
      ]
     },
     "execution_count": 69,
     "metadata": {},
     "output_type": "execute_result"
    }
   ],
   "source": [
    "results"
   ]
  },
  {
   "cell_type": "code",
   "execution_count": 73,
   "metadata": {},
   "outputs": [],
   "source": [
    "# Podmiana stringow w xml_str\n",
    "\n",
    "for positive_match in results:\n",
    "    if positive_match[3] != None:\n",
    "        xml_str = xml_str.replace(positive_match[0], positive_match[3], 1)\n",
    "\n",
    "# with open('output_test.txt', 'w', encoding=\"utf-8\") as f:\n",
    "#     f.write(xml_str)"
   ]
  },
  {
   "cell_type": "code",
   "execution_count": 74,
   "metadata": {},
   "outputs": [],
   "source": [
    "# Raport GUI"
   ]
  },
  {
   "cell_type": "code",
   "execution_count": 91,
   "metadata": {},
   "outputs": [
    {
     "ename": "FileExistsError",
     "evalue": "[WinError 183] Cannot create a file when that file already exists: 'test_data/_ffnorma/'",
     "output_type": "error",
     "traceback": [
      "\u001b[1;31m---------------------------------------------------------------------------\u001b[0m",
      "\u001b[1;31mFileExistsError\u001b[0m                           Traceback (most recent call last)",
      "\u001b[1;32m<ipython-input-91-00ce9f96d854>\u001b[0m in \u001b[0;36m<module>\u001b[1;34m\u001b[0m\n\u001b[1;32m----> 1\u001b[1;33m \u001b[0mos\u001b[0m\u001b[1;33m.\u001b[0m\u001b[0mmkdir\u001b[0m\u001b[1;33m(\u001b[0m\u001b[1;34m\"test_data/_ffnorma/\"\u001b[0m\u001b[1;33m)\u001b[0m\u001b[1;33m\u001b[0m\u001b[1;33m\u001b[0m\u001b[0m\n\u001b[0m\u001b[0;32m      2\u001b[0m \u001b[0mkopia\u001b[0m \u001b[1;33m=\u001b[0m \u001b[0mshutil\u001b[0m\u001b[1;33m.\u001b[0m\u001b[0mcopy\u001b[0m\u001b[1;33m(\u001b[0m\u001b[1;34m\"test_data/specyfikacja.docx\"\u001b[0m\u001b[1;33m,\u001b[0m \u001b[1;34m\"test_data/_ffnorma/specyfikacja_update.docx\"\u001b[0m\u001b[1;33m)\u001b[0m\u001b[1;33m\u001b[0m\u001b[1;33m\u001b[0m\u001b[0m\n",
      "\u001b[1;31mFileExistsError\u001b[0m: [WinError 183] Cannot create a file when that file already exists: 'test_data/_ffnorma/'"
     ]
    }
   ],
   "source": [
    "os.mkdir(\"test_data/_ffnorma/\")"
   ]
  },
  {
   "cell_type": "code",
   "execution_count": 92,
   "metadata": {},
   "outputs": [],
   "source": [
    "kopia = shutil.copy(\"test_data/specyfikacja.docx\", \"test_data/_ffnorma/specyfikacja_update.docx\")"
   ]
  },
  {
   "cell_type": "code",
   "execution_count": 93,
   "metadata": {},
   "outputs": [],
   "source": [
    "# Tworzenie kopii podmienionego docx\n",
    "# Author: Or Weis https://stackoverflow.com/a/35435548\n",
    "\n",
    "class UpdateableZipFile(ZipFile):\n",
    "    \"\"\"\n",
    "    Add delete (via remove_file) and update (via writestr and write methods)\n",
    "    To enable update features use UpdateableZipFile with the 'with statement',\n",
    "    Upon  __exit__ (if updates were applied) a new zip file will override the exiting one with the updates\n",
    "    \"\"\"\n",
    "\n",
    "    class DeleteMarker(object):\n",
    "        pass\n",
    "\n",
    "    def __init__(self, file, mode=\"r\", compression=ZIP_STORED, allowZip64=False):\n",
    "        # Init base\n",
    "        super(UpdateableZipFile, self).__init__(file, mode=mode,\n",
    "                                                compression=compression,\n",
    "                                                allowZip64=allowZip64)\n",
    "        # track file to override in zip\n",
    "        self._replace = {}\n",
    "        # Whether the with statement was called\n",
    "        self._allow_updates = False\n",
    "\n",
    "    def writestr(self, zinfo_or_arcname, bytes, compress_type=None):\n",
    "        if isinstance(zinfo_or_arcname, ZipInfo):\n",
    "            name = zinfo_or_arcname.filename\n",
    "        else:\n",
    "            name = zinfo_or_arcname\n",
    "        # If the file exits, and needs to be overridden,\n",
    "        # mark the entry, and create a temp-file for it\n",
    "        # we allow this only if the with statement is used\n",
    "        if self._allow_updates and name in self.namelist():\n",
    "            temp_file = self._replace[name] = self._replace.get(name,\n",
    "                                                                tempfile.TemporaryFile())\n",
    "            temp_file.write(bytes)\n",
    "        # Otherwise just act normally\n",
    "        else:\n",
    "            super(UpdateableZipFile, self).writestr(zinfo_or_arcname,\n",
    "                                                    bytes, compress_type=compress_type)\n",
    "\n",
    "    def write(self, filename, arcname=None, compress_type=None):\n",
    "        arcname = arcname or filename\n",
    "        # If the file exits, and needs to be overridden,\n",
    "        # mark the entry, and create a temp-file for it\n",
    "        # we allow this only if the with statement is used\n",
    "        if self._allow_updates and arcname in self.namelist():\n",
    "            temp_file = self._replace[arcname] = self._replace.get(arcname,\n",
    "                                                                   tempfile.TemporaryFile())\n",
    "            with open(filename, \"rb\") as source:\n",
    "                shutil.copyfileobj(source, temp_file)\n",
    "        # Otherwise just act normally\n",
    "        else:\n",
    "            super(UpdateableZipFile, self).write(filename, \n",
    "                                                 arcname=arcname, compress_type=compress_type)\n",
    "\n",
    "    def __enter__(self):\n",
    "        # Allow updates\n",
    "        self._allow_updates = True\n",
    "        return self\n",
    "\n",
    "    def __exit__(self, exc_type, exc_val, exc_tb):\n",
    "        # call base to close zip file, organically\n",
    "        try:\n",
    "            super(UpdateableZipFile, self).__exit__(exc_type, exc_val, exc_tb)\n",
    "            if len(self._replace) > 0:\n",
    "                self._rebuild_zip()\n",
    "        finally:\n",
    "            # In case rebuild zip failed,\n",
    "            # be sure to still release all the temp files\n",
    "            self._close_all_temp_files()\n",
    "            self._allow_updates = False\n",
    "\n",
    "    def _close_all_temp_files(self):\n",
    "        for temp_file in self._replace.values():\n",
    "            if hasattr(temp_file, 'close'):\n",
    "                temp_file.close()\n",
    "\n",
    "    def remove_file(self, path):\n",
    "        self._replace[path] = self.DeleteMarker()\n",
    "\n",
    "    def _rebuild_zip(self):\n",
    "        tempdir = tempfile.mkdtemp()\n",
    "        try:\n",
    "            temp_zip_path = os.path.join(tempdir, 'new.zip')\n",
    "            with ZipFile(self.filename, 'r') as zip_read:\n",
    "                # Create new zip with assigned properties\n",
    "                with ZipFile(temp_zip_path, 'w', compression=self.compression,\n",
    "                             allowZip64=self._allowZip64) as zip_write:\n",
    "                    for item in zip_read.infolist():\n",
    "                        # Check if the file should be replaced / or deleted\n",
    "                        replacement = self._replace.get(item.filename, None)\n",
    "                        # If marked for deletion, do not copy file to new zipfile\n",
    "                        if isinstance(replacement, self.DeleteMarker):\n",
    "                            del self._replace[item.filename]\n",
    "                            continue\n",
    "                        # If marked for replacement, copy temp_file, instead of old file\n",
    "                        elif replacement is not None:\n",
    "                            del self._replace[item.filename]\n",
    "                            # Write replacement to archive,\n",
    "                            # and then close it (deleting the temp file)\n",
    "                            replacement.seek(0)\n",
    "                            data = replacement.read()\n",
    "                            replacement.close()\n",
    "                        else:\n",
    "                            data = zip_read.read(item.filename)\n",
    "                        zip_write.writestr(item, data)\n",
    "            # Override the archive with the updated one\n",
    "            shutil.move(temp_zip_path, self.filename)\n",
    "        finally:\n",
    "            shutil.rmtree(tempdir)"
   ]
  },
  {
   "cell_type": "code",
   "execution_count": 94,
   "metadata": {},
   "outputs": [],
   "source": [
    "with UpdateableZipFile(r\"C:\\Users\\billy\\Desktop\\py\\ffnorma\\test_data\\_ffnorma\\specyfikacja_update.docx\", \"a\") as o:\n",
    "    # Overwrite a file with a string\n",
    "    o.writestr(r\"word/document.xml\", xml_str.encode('utf-8'), compress_type=None)"
   ]
  },
  {
   "cell_type": "code",
   "execution_count": null,
   "metadata": {},
   "outputs": [],
   "source": []
  }
 ],
 "metadata": {
  "kernelspec": {
   "display_name": "Python 3",
   "language": "python",
   "name": "python3"
  },
  "language_info": {
   "codemirror_mode": {
    "name": "ipython",
    "version": 3
   },
   "file_extension": ".py",
   "mimetype": "text/x-python",
   "name": "python",
   "nbconvert_exporter": "python",
   "pygments_lexer": "ipython3",
   "version": "3.7.4"
  }
 },
 "nbformat": 4,
 "nbformat_minor": 2
}
