{
 "cells": [
  {
   "cell_type": "code",
   "execution_count": 8,
   "metadata": {},
   "outputs": [],
   "source": [
    "import docx\n",
    "import re\n",
    "import bs4"
   ]
  },
  {
   "cell_type": "code",
   "execution_count": 11,
   "metadata": {},
   "outputs": [],
   "source": [
    "# Tworzenie bazy danych z normami\n",
    "\n",
    "with open(\"aktualne.html\", encoding=\"utf-8\") as website:\n",
    "    soup = bs4.BeautifulSoup(website, \"html.parser\")\n",
    "    \n",
    "lista = []\n",
    "for match in soup.find_all(\"span\", class_=\"highlighted-search-term\"):\n",
    "    lista.append(match.next_sibling)\n",
    "\n",
    "for s in lista:\n",
    "    s = \"PN\"+s\n",
    "\n",
    "blocks = soup.find_all(\"div\", class_=\"p4s-search-results-values\")    \n",
    "\n",
    "db = []\n",
    "for b in blocks:\n",
    "    tytul = None\n",
    "    numer = None\n",
    "    zastepuje = []\n",
    "    \n",
    "    if len(b.find_all(\"span\", string=re.compile(\"Tytuł normy\"))) == 0:\n",
    "        tytul = \"\"\n",
    "    else:\n",
    "        tytul = str(b.find_all(\"span\", string=re.compile(\"Tytuł normy\"))[0].find_next(\"a\").string).replace('\\t', '').replace('\\n', '')\n",
    "        numer = \"PN\"+ str(b.find_all(\"span\", class_=\"highlighted-search-term\")[0].next_sibling).replace('\\t', '').replace('\\n', '')\n",
    "        \n",
    "        if len(b.find_all(string=re.compile(\"Zastępuje\"))) != 0:\n",
    "            zastapione_normy = b.find_all(string=re.compile(\"Zastępuje\"))[0].parent.parent.next_sibling.find_next(\"ul\").find_all(\"a\")\n",
    "            for z in zastapione_normy:\n",
    "                z = z.contents[0].replace('\\t', '').replace('\\n', '')\n",
    "                zastepuje.append(z)\n",
    "            \n",
    "#             zastepuje = str(b.find_all(string=re.compile(\"Zastępuje\"))[0].parent.parent.next_sibling.find_next(\"a\").contents[0]).replace('\\t', '').replace('\\n', '')\n",
    "        \n",
    "    db.append((tytul, numer, zastepuje))"
   ]
  },
  {
   "cell_type": "code",
   "execution_count": 12,
   "metadata": {},
   "outputs": [],
   "source": [
    "# Przeszukiwanie dokumentu specyfikacji\n",
    "\n",
    "specyfikacja = docx.Document(\"test_data/specyfikacja.docx\")\n",
    "\n",
    "# pętla for po paragrafach\n",
    "content = \"\"\n",
    "for p in specyfikacja.paragraphs:\n",
    "    content += p.text\n",
    "\n",
    "# specyfikacja.save(\"test_data/kopia.docx\")\n",
    "\n",
    "regex = r\"PN(?: |-).{1,30}?(?:(?::\\d{4})(?:-\\d\\d|))(?:[\\S]+?(?:\\d{4})|)(?:-\\d{2}|)\"\n",
    "normy = re.findall(regex, content)"
   ]
  },
  {
   "cell_type": "code",
   "execution_count": 14,
   "metadata": {},
   "outputs": [],
   "source": [
    "# Porównanie wyników wyszukiwania z bazą\n",
    "\n",
    "results = []\n",
    "\n",
    "for n in normy:\n",
    "    mark = \"Not found in db\"\n",
    "    state = \"Unknown\" # Up-to-date\n",
    "    newest = None\n",
    "    \n",
    "    for d in db:\n",
    "        if n == d[1]:\n",
    "            mark = \"Found in db\"\n",
    "            state = \"Up-to-date\"\n",
    "            break\n",
    "            \n",
    "        else:\n",
    "            for old in d[2]:\n",
    "                if n == old:\n",
    "                    mark = \"Found in db\"\n",
    "                    state = \"Out-of-date\"\n",
    "                    newest = d[1]\n",
    "                    break\n",
    "    results.append((n, mark, state, newest))"
   ]
  },
  {
   "cell_type": "code",
   "execution_count": 15,
   "metadata": {},
   "outputs": [
    {
     "data": {
      "text/plain": [
       "[('PN-B-20130:1999', 'Not found in db', 'Unknown', None),\n",
       " ('PN-EN 14891:2012', 'Not found in db', 'Unknown', None),\n",
       " ('PN-EN 12004:2002', 'Not found in db', 'Unknown', None),\n",
       " ('PN-EN 2004:2002', 'Not found in db', 'Unknown', None),\n",
       " ('PN-EN 14411:2005', 'Not found in db', 'Unknown', None),\n",
       " ('PN-EN 12004:2002', 'Not found in db', 'Unknown', None),\n",
       " ('PN-EN 14411:2005', 'Not found in db', 'Unknown', None),\n",
       " ('PN-EN 2004:2002', 'Not found in db', 'Unknown', None),\n",
       " ('PN-EN 12859:2002', 'Not found in db', 'Unknown', None),\n",
       " ('PN-EN 12860:2002', 'Found in db', 'Up-to-date', None),\n",
       " ('PN-B-79405:1997/Ap1:1999', 'Not found in db', 'Unknown', None),\n",
       " ('PN-B-30042:1997', 'Not found in db', 'Unknown', None),\n",
       " ('PN-EN 14411:2005', 'Not found in db', 'Unknown', None),\n",
       " ('PN-EN 13964:2004', 'Not found in db', 'Unknown', None),\n",
       " ('PN-EN 22768-1:1999', 'Not found in db', 'Unknown', None),\n",
       " ('PN-B-02151-2:2018-01', 'Found in db', 'Up-to-date', None),\n",
       " ('PN-B-10085:2001', 'Not found in db', 'Unknown', None),\n",
       " ('PN-B-05000:1996', 'Found in db', 'Up-to-date', None),\n",
       " ('PN-B-13079:1997', 'Not found in db', 'Unknown', None),\n",
       " ('PN-B-10085:1988', 'Not found in db', 'Unknown', None),\n",
       " ('PN-EN 12210:2001', 'Found in db', 'Out-of-date', 'PN-EN 12210:2016-05'),\n",
       " ('PN-EN 12211:2001', 'Found in db', 'Out-of-date', 'PN-EN 12211:2016-04'),\n",
       " ('PN-EN 22768-1:1999', 'Not found in db', 'Unknown', None),\n",
       " ('PN-B-02151-2:2018-01', 'Found in db', 'Up-to-date', None),\n",
       " ('PN-B-79405:1997/Ap1:1999', 'Not found in db', 'Unknown', None),\n",
       " ('PN-EN ISO 7050:1999', 'Not found in db', 'Unknown', None),\n",
       " ('PN-EN ISO 3506-4:2004', 'Not found in db', 'Unknown', None),\n",
       " ('PN-EN 10142:2003', 'Not found in db', 'Unknown', None),\n",
       " ('PN-EN 10142:2003', 'Not found in db', 'Unknown', None),\n",
       " ('PN-EN ISO 9999:2017-02', 'Not found in db', 'Unknown', None),\n",
       " ('PN-Z-80101:2007', 'Not found in db', 'Unknown', None),\n",
       " ('PN-EN 12182:2012', 'Not found in db', 'Unknown', None),\n",
       " ('PN-B-75704:2015-12', 'Found in db', 'Up-to-date', None),\n",
       " ('PN-EN 33:2011', 'Found in db', 'Out-of-date', 'PN-EN 33:2019-06'),\n",
       " ('PN-EN 31:2011', 'Found in db', 'Out-of-date', 'PN-EN 31+A1:2014-07'),\n",
       " ('PN-EN 80:2002', 'Found in db', 'Up-to-date', None),\n",
       " ('PN-EN 13407:2015-09',\n",
       "  'Found in db',\n",
       "  'Out-of-date',\n",
       "  'PN-EN 13407+A1:2018-11'),\n",
       " ('PN-EN 60529:2003', 'Not found in db', 'Unknown', None),\n",
       " ('PN-EN 60446:2004', 'Not found in db', 'Unknown', None),\n",
       " ('PN-IEC 60364-6-61:2000', 'Not found in db', 'Unknown', None),\n",
       " ('PN-E-04700:1998/Az1:2000', 'Not found in db', 'Unknown', None),\n",
       " ('PN-IEC 61024-1-2:2002', 'Not found in db', 'Unknown', None),\n",
       " ('PN-IEC 60364-6-61:2000', 'Not found in db', 'Unknown', None),\n",
       " ('PN-E04700:1998/Az1:2000', 'Not found in db', 'Unknown', None),\n",
       " ('PN-IEC 60364-6-61:2000', 'Not found in db', 'Unknown', None),\n",
       " ('PN-IEC 60364-6-61:2000', 'Not found in db', 'Unknown', None),\n",
       " ('PN-E-04700:1998/Az1:2000', 'Not found in db', 'Unknown', None),\n",
       " ('PN-IEC 60364-4-41:2017-09', 'Not found in db', 'Unknown', None),\n",
       " ('PN-IEC 60364-4-42:2011', 'Not found in db', 'Unknown', None),\n",
       " ('PN-IEC 60364-4-43:2010', 'Not found in db', 'Unknown', None),\n",
       " ('PN-IEC 60364-4-442:2012', 'Not found in db', 'Unknown', None),\n",
       " ('PN-IEC 60364-4-443:2016-03', 'Not found in db', 'Unknown', None),\n",
       " ('PN-IEC 60364-5-51:2011', 'Not found in db', 'Unknown', None),\n",
       " ('PN-IEC 60364-5-54:2011', 'Not found in db', 'Unknown', None),\n",
       " ('PN-EN 12464-1:2012', 'Not found in db', 'Unknown', None),\n",
       " ('PN-EN/1886:2001', 'Not found in db', 'Unknown', None),\n",
       " ('PN-EN1506:2001', 'Not found in db', 'Unknown', None),\n",
       " ('PN-B-76003:1996', 'Not found in db', 'Unknown', None),\n",
       " ('PN-B-76001:1996', 'Not found in db', 'Unknown', None),\n",
       " ('PN-ISO 13351:1999', 'Not found in db', 'Unknown', None),\n",
       " ('PN-B-03410:1999', 'Found in db', 'Out-of-date', 'PN-EN 1505:2001'),\n",
       " ('PN-B03434:1999', 'Not found in db', 'Unknown', None)]"
      ]
     },
     "execution_count": 15,
     "metadata": {},
     "output_type": "execute_result"
    }
   ],
   "source": [
    "results"
   ]
  },
  {
   "cell_type": "markdown",
   "metadata": {},
   "source": [
    "# Powiększenie bazy\n",
    "\n",
    "Trzeba powiększyć bazę o sektory: chemia, elektryka\n",
    "Oraz o numery starych norm ze spisu"
   ]
  },
  {
   "cell_type": "code",
   "execution_count": 16,
   "metadata": {},
   "outputs": [],
   "source": [
    "# Eksport danych do nowego pliku\n",
    "\n",
    "# for paragraf in specyfikacja.paragraphs:\n",
    "#     for i in range(len(results)):\n",
    "#         if results[i][3] != None:             \n",
    "#             paragraf.text = paragraf.text.replace(results[i][0], results[i][3], 1)            \n",
    "#     print(paragraf.text)\n",
    "\n",
    "# specyfikacja.save(\"test_data/output.docx\")    "
   ]
  },
  {
   "cell_type": "code",
   "execution_count": null,
   "metadata": {},
   "outputs": [],
   "source": []
  }
 ],
 "metadata": {
  "kernelspec": {
   "display_name": "Python 3",
   "language": "python",
   "name": "python3"
  },
  "language_info": {
   "codemirror_mode": {
    "name": "ipython",
    "version": 3
   },
   "file_extension": ".py",
   "mimetype": "text/x-python",
   "name": "python",
   "nbconvert_exporter": "python",
   "pygments_lexer": "ipython3",
   "version": "3.7.3"
  }
 },
 "nbformat": 4,
 "nbformat_minor": 2
}
