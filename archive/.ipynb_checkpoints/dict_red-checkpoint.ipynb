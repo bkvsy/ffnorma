{
 "cells": [
  {
   "cell_type": "code",
   "execution_count": 50,
   "metadata": {},
   "outputs": [],
   "source": [
    "sample = {'PN-EN 31:2011': {'PN-EN 111:2004', 'PN-EN 31:2000', 'PN-EN 32:2000'},\n",
    " 'PN-EN 31:2000': set(),\n",
    " 'PN-EN 32:2000': set(),\n",
    " 'PN-EN 33:2011': {'PN-EN 33:2004',\n",
    "  'PN-EN 34:2001',\n",
    "  'PN-EN 37:2000',\n",
    "  'PN-EN 37:2000/Ap1:2003',\n",
    "  'PN-EN 37:2000/Ap2:2008',\n",
    "  'PN-EN 38:2001'},\n",
    " 'PN-EN 33:2004': {'PN-EN 33:2000'},\n",
    " 'PN-EN 33:2000': {'PN-B-12638:1979'},\n",
    " 'PN-EN 34:2001': set(),\n",
    " 'PN-EN 35:2001': set(),\n",
    " 'PN-EN 36:2000': {'PN-B-12633:1980'},\n",
    " 'PN-EN 37:2000': {'PN-B-12635:1981'},\n",
    " 'PN-EN 38:2001': set(),\n",
    " 'PN-EN 40-2:2002': set(),\n",
    " 'PN-EN 40-3-1:2004': {'PN-EN 40-3-1:2002'},\n",
    " 'PN-EN 40-3-1:2002': set(),\n",
    " 'PN-EN 40-3-2:2004': {'PN-EN 40-3-2:2002'},\n",
    " 'PN-EN 40-3-2:2002': set(),\n",
    " 'PN-EN 40-3-3:2004': set(),\n",
    " 'PN-EN 40-4:2006': set(),\n",
    " 'PN-EN 40-5:2002': set(),\n",
    " 'PN-EN 40-6:2002': set(),\n",
    " 'PN-EN 40-9:2002': set(),\n",
    " 'PN-EN 78:1993': set(),\n",
    " 'PN-EN 85:1998': {'PN-B-06071:1992'},\n",
    " 'PN-EN 87:1994': set(),\n",
    " 'PN-EN 98:1996': {'PN-B-12038-02:1987', 'PN-B-12038-03:1987'},\n",
    " 'PN-EN 99:1993': {'PN-B-12038-04:1987'},\n",
    " 'PN-EN 100:1993': {'PN-B-12038-05:1987'},\n",
    " 'PN-EN 101:1994': {'PN-B-12038-06:1987'},\n",
    " 'PN-EN 102:1993': {'PN-B-12038-07:1987'},\n",
    " 'PN-EN 103:1994': {'PN-B-12038-09:1987'},\n",
    " 'PN-EN 104:1997': {'PN-B-12038-10:1987'},\n",
    " 'PN-EN 105:1993': set(),\n",
    " 'PN-EN 106:1993': set(),\n",
    " 'PN-EN 111:2004': {'PN-EN 111:2000'},\n",
    " 'PN-EN 111:2000': set(),\n",
    " 'PN-EN 121:1997': {'PN-B-12033:1984', 'PN-B-12035:1979'},\n",
    " 'PN-EN 122:1993': {'PN-B-12038-13:1987'},\n",
    " 'PN-EN 124:2000': {'PN-H-74051-00:1987',\n",
    "  'PN-H-74051-1:1994',\n",
    "  'PN-H-74051-2:1994',\n",
    "  'PN-H-74080-01:1988',\n",
    "  'PN-H-74080-02:1988',\n",
    "  'PN-H-74080-03:1988',\n",
    "  'PN-H-74080-04:1988',\n",
    "  'PN-H-74080-05:1988',\n",
    "  'PN-H-74124:1993'}}"
   ]
  },
  {
   "cell_type": "code",
   "execution_count": 51,
   "metadata": {},
   "outputs": [
    {
     "data": {
      "text/plain": [
       "38"
      ]
     },
     "execution_count": 51,
     "metadata": {},
     "output_type": "execute_result"
    }
   ],
   "source": [
    "len(sample)"
   ]
  },
  {
   "cell_type": "code",
   "execution_count": 52,
   "metadata": {},
   "outputs": [],
   "source": [
    "def dict_redo(db_dict):\n",
    "    local_dict = db_dict\n",
    "    for key in list(local_dict.keys()):\n",
    "#         print(\"Klucz: \", key)\n",
    "        try:\n",
    "            if len(local_dict[key]) != 0:\n",
    "#                 print(\"Len(wartosci): \", len(local_dict[key]))\n",
    "                for val in local_dict[key]:\n",
    "#                     print(\"Wartosc\", val)\n",
    "                    # dopiero teraz sprawdza czy stara norma jest w innych kluczach\n",
    "                    if val in list(local_dict.keys()):\n",
    "#                         print(\"Set znaleziony: \", local_dict[val])\n",
    "                        local_dict[key] = local_dict[key].union(local_dict[val])\n",
    "#                         print(\"Set sumowany: \", local_dict[key])\n",
    "                        local_dict.pop(val)\n",
    "                        dict_redo(local_dict)\n",
    "#                     else:\n",
    "#                         print(\"Test\")\n",
    "        except KeyError:\n",
    "            continue\n",
    "\n",
    "    return local_dict"
   ]
  },
  {
   "cell_type": "code",
   "execution_count": 53,
   "metadata": {},
   "outputs": [
    {
     "data": {
      "text/plain": [
       "{'PN-EN 31:2011': {'PN-EN 111:2000',\n",
       "  'PN-EN 111:2004',\n",
       "  'PN-EN 31:2000',\n",
       "  'PN-EN 32:2000'},\n",
       " 'PN-EN 33:2011': {'PN-B-12635:1981',\n",
       "  'PN-B-12638:1979',\n",
       "  'PN-EN 33:2000',\n",
       "  'PN-EN 33:2004',\n",
       "  'PN-EN 34:2001',\n",
       "  'PN-EN 37:2000',\n",
       "  'PN-EN 37:2000/Ap1:2003',\n",
       "  'PN-EN 37:2000/Ap2:2008',\n",
       "  'PN-EN 38:2001'},\n",
       " 'PN-EN 35:2001': set(),\n",
       " 'PN-EN 36:2000': {'PN-B-12633:1980'},\n",
       " 'PN-EN 40-2:2002': set(),\n",
       " 'PN-EN 40-3-1:2004': {'PN-EN 40-3-1:2002'},\n",
       " 'PN-EN 40-3-2:2004': {'PN-EN 40-3-2:2002'},\n",
       " 'PN-EN 40-3-3:2004': set(),\n",
       " 'PN-EN 40-4:2006': set(),\n",
       " 'PN-EN 40-5:2002': set(),\n",
       " 'PN-EN 40-6:2002': set(),\n",
       " 'PN-EN 40-9:2002': set(),\n",
       " 'PN-EN 78:1993': set(),\n",
       " 'PN-EN 85:1998': {'PN-B-06071:1992'},\n",
       " 'PN-EN 87:1994': set(),\n",
       " 'PN-EN 98:1996': {'PN-B-12038-02:1987', 'PN-B-12038-03:1987'},\n",
       " 'PN-EN 99:1993': {'PN-B-12038-04:1987'},\n",
       " 'PN-EN 100:1993': {'PN-B-12038-05:1987'},\n",
       " 'PN-EN 101:1994': {'PN-B-12038-06:1987'},\n",
       " 'PN-EN 102:1993': {'PN-B-12038-07:1987'},\n",
       " 'PN-EN 103:1994': {'PN-B-12038-09:1987'},\n",
       " 'PN-EN 104:1997': {'PN-B-12038-10:1987'},\n",
       " 'PN-EN 105:1993': set(),\n",
       " 'PN-EN 106:1993': set(),\n",
       " 'PN-EN 121:1997': {'PN-B-12033:1984', 'PN-B-12035:1979'},\n",
       " 'PN-EN 122:1993': {'PN-B-12038-13:1987'},\n",
       " 'PN-EN 124:2000': {'PN-H-74051-00:1987',\n",
       "  'PN-H-74051-1:1994',\n",
       "  'PN-H-74051-2:1994',\n",
       "  'PN-H-74080-01:1988',\n",
       "  'PN-H-74080-02:1988',\n",
       "  'PN-H-74080-03:1988',\n",
       "  'PN-H-74080-04:1988',\n",
       "  'PN-H-74080-05:1988',\n",
       "  'PN-H-74124:1993'}}"
      ]
     },
     "execution_count": 53,
     "metadata": {},
     "output_type": "execute_result"
    }
   ],
   "source": [
    "sample_reduced = dict_redo(sample)\n",
    "sample_reduced"
   ]
  },
  {
   "cell_type": "code",
   "execution_count": 54,
   "metadata": {},
   "outputs": [
    {
     "data": {
      "text/plain": [
       "27"
      ]
     },
     "execution_count": 54,
     "metadata": {},
     "output_type": "execute_result"
    }
   ],
   "source": [
    "len(sample_reduced)"
   ]
  },
  {
   "cell_type": "code",
   "execution_count": null,
   "metadata": {},
   "outputs": [],
   "source": []
  }
 ],
 "metadata": {
  "kernelspec": {
   "display_name": "Python 3",
   "language": "python",
   "name": "python3"
  },
  "language_info": {
   "codemirror_mode": {
    "name": "ipython",
    "version": 3
   },
   "file_extension": ".py",
   "mimetype": "text/x-python",
   "name": "python",
   "nbconvert_exporter": "python",
   "pygments_lexer": "ipython3",
   "version": "3.7.4"
  }
 },
 "nbformat": 4,
 "nbformat_minor": 2
}
