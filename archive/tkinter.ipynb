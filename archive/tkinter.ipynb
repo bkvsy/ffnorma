{
 "cells": [
  {
   "cell_type": "code",
   "execution_count": 2,
   "metadata": {},
   "outputs": [],
   "source": [
    "import tkinter as tk"
   ]
  },
  {
   "cell_type": "code",
   "execution_count": 3,
   "metadata": {},
   "outputs": [],
   "source": [
    "class App(tk.Tk):\n",
    "    def __init__(self):\n",
    "        super().__init__()\n",
    "        self.btn = tk.Button(self, text=\"Click\",\n",
    "                            command=self.say_hello)\n",
    "        self.btn.pack(padx=120, pady=30)\n",
    "    \n",
    "    def say_hello(self):\n",
    "        print(\"Helloooo\")\n",
    "        "
   ]
  },
  {
   "cell_type": "code",
   "execution_count": 4,
   "metadata": {},
   "outputs": [
    {
     "name": "stdout",
     "output_type": "stream",
     "text": [
      "Helloooo\n",
      "Helloooo\n",
      "Helloooo\n"
     ]
    }
   ],
   "source": [
    "if __name__ == \"__main__\":\n",
    "    app = App()\n",
    "    app.title(\"My app\")\n",
    "    app.mainloop()\n"
   ]
  },
  {
   "cell_type": "code",
   "execution_count": 11,
   "metadata": {},
   "outputs": [],
   "source": [
    "RELIEFS = [tk.SUNKEN, tk.RAISED, tk.GROOVE, tk.RIDGE, tk.FLAT]\n",
    "\n",
    "class ButtonApp(tk.Tk):\n",
    "    def __init__(self):\n",
    "        super().__init__()\n",
    "#         self.img = tk.PhotoImage(file=\"python.gif\")\n",
    "        self.btn = tk.Button(self, text=\"Button without image :(\",\n",
    "                             compound=tk.LEFT,\n",
    "                             command=self.disable_btn)\n",
    "        self.btns = [self.create_btn(r) for r in RELIEFS]\n",
    "        self.btn.pack()\n",
    "        for btn in self.btns:\n",
    "            btn.pack(padx=10, pady=10, side=tk.LEFT)\n",
    "            \n",
    "    def create_btn(self, relief):\n",
    "        return tk.Button(self, text=relief, relief=relief)\n",
    "    \n",
    "    def disable_btn(self):\n",
    "        self.btn.config(state=tk.DISABLED)"
   ]
  },
  {
   "cell_type": "code",
   "execution_count": 12,
   "metadata": {},
   "outputs": [],
   "source": [
    "if __name__ == \"__main__\":\n",
    "    app = ButtonApp()\n",
    "    app.mainloop()"
   ]
  },
  {
   "cell_type": "code",
   "execution_count": 20,
   "metadata": {},
   "outputs": [],
   "source": [
    "class LoginApp(tk.Tk):\n",
    "    def __init__(self):\n",
    "        super().__init__()\n",
    "        self.username = tk.Entry(self)\n",
    "        self.password = tk.Entry(self, show=\"*\")\n",
    "        self.login_btn = tk.Button(self, text=\"Log in\",\n",
    "                                  command=self.print_login)\n",
    "        self.clear_btn = tk.Button(self, text=\"Clear\",\n",
    "                                  command=self.clear_form)\n",
    "        self.username.pack()\n",
    "        self.password.pack()\n",
    "        self.login_btn.pack(fill=tk.BOTH)\n",
    "        self.clear_btn.pack(fill=tk.BOTH)\n",
    "        \n",
    "    def print_login(self):\n",
    "        print(\"Username: {}\".format(self.username.get()))\n",
    "        print(\"Password: {}\".format(self.password.get()))\n",
    "        \n",
    "    def clear_form(self):\n",
    "        self.username.delete(0, tk.END)\n",
    "        self.password.delete(0, tk.END)\n",
    "        self.username.focus_set()\n"
   ]
  },
  {
   "cell_type": "code",
   "execution_count": 22,
   "metadata": {},
   "outputs": [],
   "source": [
    "if __name__==\"__main__\":\n",
    "    app = LoginApp()\n",
    "    app.mainloop()"
   ]
  },
  {
   "cell_type": "code",
   "execution_count": 2,
   "metadata": {},
   "outputs": [],
   "source": [
    "class App(tk.Tk):\n",
    "    def __init__(self):\n",
    "        super().__init__()\n",
    "        self.var = tk.StringVar()\n",
    "        self.var.trace(\"w\", self.show_message)\n",
    "        self.entry = tk.Entry(self, textvariable=self.var)\n",
    "        self.btn = tk.Button(self, text=\"Clear\",\n",
    "                              command=lambda: self.var.set(\"\"))\n",
    "        self.label = tk.Label(self)\n",
    "        self.entry.pack()\n",
    "        self.btn.pack()\n",
    "        self.label.pack()\n",
    "        \n",
    "    def show_message(self, *args):\n",
    "        value = self.var.get()\n",
    "        text = \"Hello, {}!\".format(value) if value else \"\"\n",
    "        self.label.config(text=text)\n",
    "\n",
    "# if __name__ == \"__main__\":\n",
    "#     app = App()\n",
    "#     app.mainloop()\n",
    "    \n",
    "app = App()\n",
    "app.mainloop()"
   ]
  },
  {
   "cell_type": "code",
   "execution_count": 5,
   "metadata": {},
   "outputs": [],
   "source": [
    "import re\n",
    "\n",
    "class App(tk.Tk):\n",
    "    def __init__(self):\n",
    "        super().__init__()\n",
    "        self.pattern = re.compile(\"^\\w{0,10}$\")\n",
    "        self.label = tk.Label(self, text=\"Użytkownik\")\n",
    "        vcmd = (self.register(self.validate_username), \"%i\", \"%P\")\n",
    "        self.entry = tk.Entry(self, validate=\"key\",\n",
    "                             validatecommand=vcmd,\n",
    "                             invalidcommand=self.print_error)\n",
    "        self.label.pack()\n",
    "        self.entry.pack(anchor=tk.W, padx=10, pady=10)\n",
    "        \n",
    "    def validate_username(self, index, username):\n",
    "        print(\"Mod at index \" + index)\n",
    "        return self.pattern.match(username) is not None\n",
    "    \n",
    "    def print_error(self):\n",
    "        print(\"Invalid username character\")\n",
    "    \n",
    "app = App()\n",
    "app.mainloop()\n"
   ]
  },
  {
   "cell_type": "code",
   "execution_count": 4,
   "metadata": {},
   "outputs": [
    {
     "name": "stdout",
     "output_type": "stream",
     "text": [
      "Spindox: 0\n",
      "Scale: 2.5\n"
     ]
    }
   ],
   "source": [
    "class App(tk.Tk):\n",
    "    def __init__(self):\n",
    "        super().__init__()\n",
    "        self.spinbox = tk.Spinbox(self, from_=0, to=5)\n",
    "        self.scale = tk.Scale(self, from_=0, to=5,\n",
    "                              orient=tk.HORIZONTAL, resolution=0.5)\n",
    "        self.btn = tk.Button(self, text=\"Print values\",\n",
    "                             command=self.print_values)\n",
    "        self.spinbox.pack()\n",
    "        self.scale.pack()\n",
    "        self.btn.pack()\n",
    "    \n",
    "    def print_values(self):\n",
    "        print(\"Spindox: {}\".format(self.spinbox.get()))\n",
    "        print(\"Scale: {}\".format(self.scale.get()))\n",
    "        \n",
    "        \n",
    "app = App()\n",
    "app.mainloop()"
   ]
  },
  {
   "cell_type": "code",
   "execution_count": 10,
   "metadata": {},
   "outputs": [
    {
     "name": "stdout",
     "output_type": "stream",
     "text": [
      "green\n",
      "blue\n"
     ]
    }
   ],
   "source": [
    "COLORS = [(\"Red\", \"red\"), (\"Green\", \"green\"), (\"Blue\", \"blue\")]\n",
    "\n",
    "class App(tk.Tk):\n",
    "    def __init__(self):\n",
    "        super().__init__()\n",
    "        self.var = tk.StringVar()\n",
    "        self.var.set(\"red\")\n",
    "        self.buttons = [self.create_radio(c) for c in COLORS]\n",
    "        for button in self.buttons:\n",
    "            button.pack(anchor=tk.W, padx=10, pady=5)\n",
    "    \n",
    "    def create_radio(self, option):\n",
    "        text, value = option\n",
    "        return tk.Radiobutton(self, text=text, value=value,\n",
    "                             command=self.print_option,\n",
    "                             variable=self.var)\n",
    "    def print_option(self):\n",
    "        print(self.var.get())\n",
    "    \n",
    "app = App()\n",
    "app.mainloop()"
   ]
  },
  {
   "cell_type": "code",
   "execution_count": null,
   "metadata": {},
   "outputs": [],
   "source": []
  }
 ],
 "metadata": {
  "kernelspec": {
   "display_name": "Python 3",
   "language": "python",
   "name": "python3"
  },
  "language_info": {
   "codemirror_mode": {
    "name": "ipython",
    "version": 3
   },
   "file_extension": ".py",
   "mimetype": "text/x-python",
   "name": "python",
   "nbconvert_exporter": "python",
   "pygments_lexer": "ipython3",
   "version": "3.7.4"
  }
 },
 "nbformat": 4,
 "nbformat_minor": 2
}
