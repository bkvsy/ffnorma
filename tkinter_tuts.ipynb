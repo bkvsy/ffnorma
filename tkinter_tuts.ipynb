{
 "cells": [
  {
   "cell_type": "code",
   "execution_count": 9,
   "metadata": {},
   "outputs": [],
   "source": [
    "import tkinter as tk"
   ]
  },
  {
   "cell_type": "code",
   "execution_count": 32,
   "metadata": {},
   "outputs": [],
   "source": [
    "class App(tk.Tk):\n",
    "    def __init__(self):\n",
    "        super().__init__()\n",
    "        self.minsize(360, 200)\n",
    "        self.maxsize(360, 200)\n",
    "        \n",
    "        self.title(\"ffnorma\")\n",
    "        self.heading = tk.Label(text=\"ffnorma\", padx=15, pady=15, font=(\"Arial Black\", 24))\n",
    "        self.desc = tk.Label(text=\"Wyszukuje i aktualizuje numery norm w dokumentach docx\", padx=15, pady=25, font=(\"Arial\", 9))\n",
    "        self.findbtn = tk.Button(text=\"Znajdź plik\", padx=5, pady=5, width = 10)\n",
    "        self.updtbtn = tk.Button(text=\"Aktualizuj\", padx=5, pady=5, width = 10)\n",
    "\n",
    "        self.heading.grid(row=0, sticky = tk.NW, columnspan=2)\n",
    "        self.desc.grid(row=1, columnspan=2)\n",
    "        self.findbtn.grid(row=2, column=0, sticky=tk.E, padx=5)\n",
    "        self.updtbtn.grid(row=2, column=1, sticky=tk.W, padx=5)\n",
    "        self.grid_columnconfigure(0, minsize=240)\n"
   ]
  },
  {
   "cell_type": "code",
   "execution_count": 33,
   "metadata": {},
   "outputs": [],
   "source": [
    "app = App()\n",
    "app.iconbitmap('yellow-icon.ico')\n",
    "app.mainloop()"
   ]
  },
  {
   "cell_type": "code",
   "execution_count": 28,
   "metadata": {},
   "outputs": [],
   "source": [
    "import tkinter as tk\n",
    "from tkinter import filedialog as fd\n",
    "\n",
    "\n",
    "class Browse(tk.Frame):\n",
    "    \"\"\" Creates a frame that contains a button when clicked lets the user to select\n",
    "    a file and put its filepath into an entry.\n",
    "    \"\"\"\n",
    "\n",
    "    def __init__(self, master, initialdir='', filetypes=()):\n",
    "        super().__init__(master)\n",
    "        self.filepath = tk.StringVar()\n",
    "        self._initaldir = initialdir\n",
    "        self._filetypes = filetypes\n",
    "        self._create_widgets()\n",
    "        self._display_widgets()\n",
    "\n",
    "    def _create_widgets(self):\n",
    "        self._entry = tk.Entry(self, textvariable=self.filepath)\n",
    "        self._button = tk.Button(self, text=\"Browse...\", command=self.browse)\n",
    "\n",
    "    def _display_widgets(self):\n",
    "        self._entry.pack(fill='x', expand=True)\n",
    "        self._button.pack(anchor='se')\n",
    "\n",
    "    def browse(self):\n",
    "        \"\"\" Browses a .png file or all files and then puts it on the entry.\n",
    "        \"\"\"\n",
    "\n",
    "        self.filepath.set(fd.askopenfilename(initialdir=self._initaldir,\n",
    "                                             filetypes=self._filetypes))\n",
    "\n",
    "\n",
    "if __name__ == '__main__':\n",
    "    root = tk.Tk()\n",
    "\n",
    "    file_browser = Browse(root, initialdir=r\"C:\\Users\",\n",
    "                                filetypes=(('Portable Network Graphics','*.png'),\n",
    "                                                            (\"All files\", \"*.*\")))\n",
    "    file_browser.pack(fill='x', expand=True)\n",
    "\n",
    "    root.mainloop()"
   ]
  },
  {
   "cell_type": "markdown",
   "metadata": {},
   "source": [
    "# ffnorma\n",
    "##### Wyszukuje i aktualizuje numery norm w dokumentach docx\n",
    "Szukaj... | Analizuj...\n",
    "\n",
    "Plik źródłowy pozostanie bez zmian.\n",
    "Program utworzy kopię dokumentu z zamienionymi numerami norm w tym samym katalogu.  "
   ]
  },
  {
   "cell_type": "code",
   "execution_count": null,
   "metadata": {},
   "outputs": [],
   "source": []
  }
 ],
 "metadata": {
  "kernelspec": {
   "display_name": "Python 3",
   "language": "python",
   "name": "python3"
  },
  "language_info": {
   "codemirror_mode": {
    "name": "ipython",
    "version": 3
   },
   "file_extension": ".py",
   "mimetype": "text/x-python",
   "name": "python",
   "nbconvert_exporter": "python",
   "pygments_lexer": "ipython3",
   "version": "3.7.3"
  }
 },
 "nbformat": 4,
 "nbformat_minor": 2
}
